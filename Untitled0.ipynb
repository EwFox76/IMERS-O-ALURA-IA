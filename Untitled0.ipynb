{
  "nbformat": 4,
  "nbformat_minor": 0,
  "metadata": {
    "colab": {
      "provenance": [],
      "authorship_tag": "ABX9TyP7t2kSH0kqStLU30nDlSRr",
      "include_colab_link": true
    },
    "kernelspec": {
      "name": "python3",
      "display_name": "Python 3"
    },
    "language_info": {
      "name": "python"
    }
  },
  "cells": [
    {
      "cell_type": "markdown",
      "metadata": {
        "id": "view-in-github",
        "colab_type": "text"
      },
      "source": [
        "<a href=\"https://colab.research.google.com/github/EwFox76/IMERS-O-ALURA-IA/blob/main/Untitled0.ipynb\" target=\"_parent\"><img src=\"https://colab.research.google.com/assets/colab-badge.svg\" alt=\"Open In Colab\"/></a>"
      ]
    },
    {
      "cell_type": "code",
      "execution_count": null,
      "metadata": {
        "id": "lvKIMuiya178"
      },
      "outputs": [],
      "source": [
        "# Instalar bibliotecas necessárias.\n",
        "!pip install google-genai\n",
        "!pip install -q google-genai ipywidgets google-adk\n",
        "print(\"Bibliotecas instaladas.\")"
      ]
    },
    {
      "cell_type": "code",
      "source": [
        "# Importações Nescessárias.\n",
        "import os\n",
        "from google.colab import userdata\n",
        "os.environ[\"GOOGLE_API_KEY\"] = userdata.get('GOOGLE_API_KEY')\n",
        "print(\"API_KEY: OK\")\n",
        "\n",
        "import ipywidgets as widgets\n",
        "from ipywidgets import HTML, Output, Label, Textarea, Button, VBox, HBox, Layout\n",
        "from IPython.display import display\n",
        "from datetime import datetime\n",
        "print(\"Widgets: OK\")\n",
        "\n",
        "import google.adk as adk\n",
        "print(\"Adk: OK\")\n",
        "\n",
        "from google import genai\n",
        "client = genai.Client()\n",
        "model = \"gemini-2.5-flash-preview-04-17\"\n",
        "print(\"Modelo Gemini: OK\")\n",
        "\n",
        "from google.genai import types\n",
        "print(\"Tipos para configurar os modelos: OK\")\n",
        "\n"
      ],
      "metadata": {
        "colab": {
          "base_uri": "https://localhost:8080/"
        },
        "id": "t68bTj2mbRNQ",
        "outputId": "69a60210-a415-48eb-dcbf-85ede1265c2b"
      },
      "execution_count": null,
      "outputs": [
        {
          "output_type": "stream",
          "name": "stdout",
          "text": [
            "API_KEY: OK\n",
            "Widgets: OK\n",
            "Adk: OK\n",
            "Modelo Gemini: OK\n",
            "Tipos para configurar os modelos: OK\n"
          ]
        }
      ]
    },
    {
      "cell_type": "code",
      "source": [],
      "metadata": {
        "id": "qtxsiQwSV263"
      },
      "execution_count": null,
      "outputs": []
    },
    {
      "cell_type": "code",
      "source": [
        "prompt = input(\"Digite seus sentimentos ou sair para finalizar: \")\n",
        "\n",
        "while prompt != \"sair\":\n",
        "  response = chat.send_message(prompt)\n",
        "  print(\"Resposta: \", response.text)\n",
        "  print(\"\\n\")\n",
        "  prompt = input(\"Digite seus sentimentos ou sair para finalizar: \")\n",
        "if  prompt = \"sair\":\n",
        "  prompt = input(\"Estarei sempre aqui. \")"
      ],
      "metadata": {
        "colab": {
          "base_uri": "https://localhost:8080/"
        },
        "id": "9KH3hnGhmwoI",
        "outputId": "be40efdd-b90f-40a0-b87d-9607094347a8"
      },
      "execution_count": null,
      "outputs": [
        {
          "name": "stdout",
          "output_type": "stream",
          "text": [
            "Digite seus sentimentos ou sair para finalizar: feliz\n",
            "Resposta:  Que bom!\n",
            "\n",
            "\n",
            "Digite seus sentimentos ou sair para finalizar: triste\n",
            "Resposta:  Sinto muito.\n",
            "\n",
            "\n",
            "Digite seus sentimentos ou sair para finalizar: Estou muito triste\n",
            "Resposta:  Sinto muito ouvir isso.\n",
            "\n",
            "\n",
            "Digite seus sentimentos ou sair para finalizar: sair\n",
            "Estarei sempre aqui. ok\n"
          ]
        }
      ]
    }
  ]
}