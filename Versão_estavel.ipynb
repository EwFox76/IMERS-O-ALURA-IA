{
  "nbformat": 4,
  "nbformat_minor": 0,
  "metadata": {
    "colab": {
      "provenance": [],
      "authorship_tag": "ABX9TyNPJrC8Yr+jXpuqN5Y3MJRy",
      "include_colab_link": true
    },
    "kernelspec": {
      "name": "python3",
      "display_name": "Python 3"
    },
    "language_info": {
      "name": "python"
    },
    "widgets": {
      "application/vnd.jupyter.widget-state+json": {
        "6da879d9b7e04ad6a551a2bc4050ae75": {
          "model_module": "@jupyter-widgets/output",
          "model_name": "OutputModel",
          "model_module_version": "1.0.0",
          "state": {
            "_dom_classes": [],
            "_model_module": "@jupyter-widgets/output",
            "_model_module_version": "1.0.0",
            "_model_name": "OutputModel",
            "_view_count": null,
            "_view_module": "@jupyter-widgets/output",
            "_view_module_version": "1.0.0",
            "_view_name": "OutputView",
            "layout": "IPY_MODEL_fc25bb939dce4424a074a27175d7d9a5",
            "msg_id": "",
            "outputs": [
              {
                "output_type": "stream",
                "name": "stdout",
                "text": [
                  "Resposta: Olá! Sou um agente de IA de apoio positivo e estou aqui para oferecer um pouco de encorajamento e dicas gerais de bem-estar.\n",
                  "\n",
                  "**Importante:** Lembre-se, sou uma inteligência artificial e **não posso oferecer aconselhamento médico ou psicológico**. Se você está enfrentando dificuldades significativas ou uma crise, é **fundamental e fortemente recomendado procurar a ajuda de um profissional de saúde mental** (como psicólogo ou psiquiatra) ou serviços de emergência. Em caso de emergência ou pensamentos de auto-dano, por favor, procure ajuda profissional imediatamente ou ligue para um serviço de valorização da vida (como o CVV no Brasil, pelo número 188).\n",
                  "\n",
                  "Estou aqui para ouvir (dentro dos meus limites como IA) e compartilhar um pouco de positividade. Como você está hoje? Se quiser conversar sobre algo que esteja ao meu alcance, ou se precisar de uma palavra amiga ou uma dica geral de bem-estar, estou aqui. 😊\n",
                  "\n"
                ]
              }
            ]
          }
        },
        "fc25bb939dce4424a074a27175d7d9a5": {
          "model_module": "@jupyter-widgets/base",
          "model_name": "LayoutModel",
          "model_module_version": "1.2.0",
          "state": {
            "_model_module": "@jupyter-widgets/base",
            "_model_module_version": "1.2.0",
            "_model_name": "LayoutModel",
            "_view_count": null,
            "_view_module": "@jupyter-widgets/base",
            "_view_module_version": "1.2.0",
            "_view_name": "LayoutView",
            "align_content": null,
            "align_items": null,
            "align_self": null,
            "border": "4px solid black",
            "bottom": null,
            "display": null,
            "flex": null,
            "flex_flow": null,
            "grid_area": null,
            "grid_auto_columns": null,
            "grid_auto_flow": null,
            "grid_auto_rows": null,
            "grid_column": null,
            "grid_gap": null,
            "grid_row": null,
            "grid_template_areas": null,
            "grid_template_columns": null,
            "grid_template_rows": null,
            "height": "300px",
            "justify_content": null,
            "justify_items": null,
            "left": null,
            "margin": null,
            "max_height": null,
            "max_width": null,
            "min_height": null,
            "min_width": null,
            "object_fit": null,
            "object_position": null,
            "order": null,
            "overflow": null,
            "overflow_x": null,
            "overflow_y": "auto",
            "padding": null,
            "right": null,
            "top": null,
            "visibility": null,
            "width": "auto"
          }
        },
        "57783a3ef29046e4922933515ee01626": {
          "model_module": "@jupyter-widgets/controls",
          "model_name": "TextareaModel",
          "model_module_version": "1.5.0",
          "state": {
            "_dom_classes": [],
            "_model_module": "@jupyter-widgets/controls",
            "_model_module_version": "1.5.0",
            "_model_name": "TextareaModel",
            "_view_count": null,
            "_view_module": "@jupyter-widgets/controls",
            "_view_module_version": "1.5.0",
            "_view_name": "TextareaView",
            "continuous_update": true,
            "description": "",
            "description_tooltip": null,
            "disabled": false,
            "layout": "IPY_MODEL_627f00c17d9d4f63930c078695b810e8",
            "placeholder": "Digite seus sentimentos aqui...",
            "rows": null,
            "style": "IPY_MODEL_faecd4f034cc4aecb4ab74420560a1dd",
            "value": ""
          }
        },
        "627f00c17d9d4f63930c078695b810e8": {
          "model_module": "@jupyter-widgets/base",
          "model_name": "LayoutModel",
          "model_module_version": "1.2.0",
          "state": {
            "_model_module": "@jupyter-widgets/base",
            "_model_module_version": "1.2.0",
            "_model_name": "LayoutModel",
            "_view_count": null,
            "_view_module": "@jupyter-widgets/base",
            "_view_module_version": "1.2.0",
            "_view_name": "LayoutView",
            "align_content": null,
            "align_items": null,
            "align_self": null,
            "border": null,
            "bottom": null,
            "display": null,
            "flex": null,
            "flex_flow": null,
            "grid_area": null,
            "grid_auto_columns": null,
            "grid_auto_flow": null,
            "grid_auto_rows": null,
            "grid_column": null,
            "grid_gap": null,
            "grid_row": null,
            "grid_template_areas": null,
            "grid_template_columns": null,
            "grid_template_rows": null,
            "height": "100px",
            "justify_content": null,
            "justify_items": null,
            "left": null,
            "margin": null,
            "max_height": null,
            "max_width": null,
            "min_height": null,
            "min_width": null,
            "object_fit": null,
            "object_position": null,
            "order": null,
            "overflow": null,
            "overflow_x": null,
            "overflow_y": null,
            "padding": null,
            "right": null,
            "top": null,
            "visibility": null,
            "width": "auto"
          }
        },
        "faecd4f034cc4aecb4ab74420560a1dd": {
          "model_module": "@jupyter-widgets/controls",
          "model_name": "DescriptionStyleModel",
          "model_module_version": "1.5.0",
          "state": {
            "_model_module": "@jupyter-widgets/controls",
            "_model_module_version": "1.5.0",
            "_model_name": "DescriptionStyleModel",
            "_view_count": null,
            "_view_module": "@jupyter-widgets/base",
            "_view_module_version": "1.2.0",
            "_view_name": "StyleView",
            "description_width": ""
          }
        },
        "dd7b8f25c3d641bf9fc57396f7fa7a4d": {
          "model_module": "@jupyter-widgets/controls",
          "model_name": "HBoxModel",
          "model_module_version": "1.5.0",
          "state": {
            "_dom_classes": [],
            "_model_module": "@jupyter-widgets/controls",
            "_model_module_version": "1.5.0",
            "_model_name": "HBoxModel",
            "_view_count": null,
            "_view_module": "@jupyter-widgets/controls",
            "_view_module_version": "1.5.0",
            "_view_name": "HBoxView",
            "box_style": "",
            "children": [
              "IPY_MODEL_da6bca7dd821443ca8958d4f0dde8d6f",
              "IPY_MODEL_eb4936ff56f94c5ca9d1a751b376d275"
            ],
            "layout": "IPY_MODEL_9e15d744f2d943a887251e30670424fc"
          }
        },
        "da6bca7dd821443ca8958d4f0dde8d6f": {
          "model_module": "@jupyter-widgets/controls",
          "model_name": "ButtonModel",
          "model_module_version": "1.5.0",
          "state": {
            "_dom_classes": [],
            "_model_module": "@jupyter-widgets/controls",
            "_model_module_version": "1.5.0",
            "_model_name": "ButtonModel",
            "_view_count": null,
            "_view_module": "@jupyter-widgets/controls",
            "_view_module_version": "1.5.0",
            "_view_name": "ButtonView",
            "button_style": "",
            "description": "Enviar",
            "disabled": false,
            "icon": "",
            "layout": "IPY_MODEL_3674e1dc553148a19083b573d7ab3a06",
            "style": "IPY_MODEL_de0dd1e73a474c179559b771dccd029f",
            "tooltip": ""
          }
        },
        "eb4936ff56f94c5ca9d1a751b376d275": {
          "model_module": "@jupyter-widgets/controls",
          "model_name": "ButtonModel",
          "model_module_version": "1.5.0",
          "state": {
            "_dom_classes": [],
            "_model_module": "@jupyter-widgets/controls",
            "_model_module_version": "1.5.0",
            "_model_name": "ButtonModel",
            "_view_count": null,
            "_view_module": "@jupyter-widgets/controls",
            "_view_module_version": "1.5.0",
            "_view_name": "ButtonView",
            "button_style": "",
            "description": "Sair da Conversa",
            "disabled": false,
            "icon": "",
            "layout": "IPY_MODEL_516e259ca48a47e69dcb7ea1237622a3",
            "style": "IPY_MODEL_0d6514f6344948389ed56770ef7a4045",
            "tooltip": ""
          }
        },
        "9e15d744f2d943a887251e30670424fc": {
          "model_module": "@jupyter-widgets/base",
          "model_name": "LayoutModel",
          "model_module_version": "1.2.0",
          "state": {
            "_model_module": "@jupyter-widgets/base",
            "_model_module_version": "1.2.0",
            "_model_name": "LayoutModel",
            "_view_count": null,
            "_view_module": "@jupyter-widgets/base",
            "_view_module_version": "1.2.0",
            "_view_name": "LayoutView",
            "align_content": null,
            "align_items": null,
            "align_self": null,
            "border": null,
            "bottom": null,
            "display": null,
            "flex": null,
            "flex_flow": null,
            "grid_area": null,
            "grid_auto_columns": null,
            "grid_auto_flow": null,
            "grid_auto_rows": null,
            "grid_column": null,
            "grid_gap": null,
            "grid_row": null,
            "grid_template_areas": null,
            "grid_template_columns": null,
            "grid_template_rows": null,
            "height": null,
            "justify_content": "space-between",
            "justify_items": null,
            "left": null,
            "margin": null,
            "max_height": null,
            "max_width": null,
            "min_height": null,
            "min_width": null,
            "object_fit": null,
            "object_position": null,
            "order": null,
            "overflow": null,
            "overflow_x": null,
            "overflow_y": null,
            "padding": null,
            "right": null,
            "top": null,
            "visibility": null,
            "width": null
          }
        },
        "3674e1dc553148a19083b573d7ab3a06": {
          "model_module": "@jupyter-widgets/base",
          "model_name": "LayoutModel",
          "model_module_version": "1.2.0",
          "state": {
            "_model_module": "@jupyter-widgets/base",
            "_model_module_version": "1.2.0",
            "_model_name": "LayoutModel",
            "_view_count": null,
            "_view_module": "@jupyter-widgets/base",
            "_view_module_version": "1.2.0",
            "_view_name": "LayoutView",
            "align_content": null,
            "align_items": null,
            "align_self": null,
            "border": null,
            "bottom": null,
            "display": null,
            "flex": null,
            "flex_flow": null,
            "grid_area": null,
            "grid_auto_columns": null,
            "grid_auto_flow": null,
            "grid_auto_rows": null,
            "grid_column": null,
            "grid_gap": null,
            "grid_row": null,
            "grid_template_areas": null,
            "grid_template_columns": null,
            "grid_template_rows": null,
            "height": null,
            "justify_content": null,
            "justify_items": null,
            "left": null,
            "margin": null,
            "max_height": null,
            "max_width": null,
            "min_height": null,
            "min_width": null,
            "object_fit": null,
            "object_position": null,
            "order": null,
            "overflow": null,
            "overflow_x": null,
            "overflow_y": null,
            "padding": null,
            "right": null,
            "top": null,
            "visibility": null,
            "width": null
          }
        },
        "de0dd1e73a474c179559b771dccd029f": {
          "model_module": "@jupyter-widgets/controls",
          "model_name": "ButtonStyleModel",
          "model_module_version": "1.5.0",
          "state": {
            "_model_module": "@jupyter-widgets/controls",
            "_model_module_version": "1.5.0",
            "_model_name": "ButtonStyleModel",
            "_view_count": null,
            "_view_module": "@jupyter-widgets/base",
            "_view_module_version": "1.2.0",
            "_view_name": "StyleView",
            "button_color": "darkgreen",
            "font_weight": "bold"
          }
        },
        "516e259ca48a47e69dcb7ea1237622a3": {
          "model_module": "@jupyter-widgets/base",
          "model_name": "LayoutModel",
          "model_module_version": "1.2.0",
          "state": {
            "_model_module": "@jupyter-widgets/base",
            "_model_module_version": "1.2.0",
            "_model_name": "LayoutModel",
            "_view_count": null,
            "_view_module": "@jupyter-widgets/base",
            "_view_module_version": "1.2.0",
            "_view_name": "LayoutView",
            "align_content": null,
            "align_items": null,
            "align_self": null,
            "border": null,
            "bottom": null,
            "display": null,
            "flex": null,
            "flex_flow": null,
            "grid_area": null,
            "grid_auto_columns": null,
            "grid_auto_flow": null,
            "grid_auto_rows": null,
            "grid_column": null,
            "grid_gap": null,
            "grid_row": null,
            "grid_template_areas": null,
            "grid_template_columns": null,
            "grid_template_rows": null,
            "height": null,
            "justify_content": null,
            "justify_items": null,
            "left": null,
            "margin": null,
            "max_height": null,
            "max_width": null,
            "min_height": null,
            "min_width": null,
            "object_fit": null,
            "object_position": null,
            "order": null,
            "overflow": null,
            "overflow_x": null,
            "overflow_y": null,
            "padding": null,
            "right": null,
            "top": null,
            "visibility": null,
            "width": null
          }
        },
        "0d6514f6344948389ed56770ef7a4045": {
          "model_module": "@jupyter-widgets/controls",
          "model_name": "ButtonStyleModel",
          "model_module_version": "1.5.0",
          "state": {
            "_model_module": "@jupyter-widgets/controls",
            "_model_module_version": "1.5.0",
            "_model_name": "ButtonStyleModel",
            "_view_count": null,
            "_view_module": "@jupyter-widgets/base",
            "_view_module_version": "1.2.0",
            "_view_name": "StyleView",
            "button_color": "salmon",
            "font_weight": "bold"
          }
        }
      }
    }
  },
  "cells": [
    {
      "cell_type": "markdown",
      "metadata": {
        "id": "view-in-github",
        "colab_type": "text"
      },
      "source": [
        "<a href=\"https://colab.research.google.com/github/EwFox76/IMERS-O-ALURA-IA/blob/main/Vers%C3%A3o_estavel.ipynb\" target=\"_parent\"><img src=\"https://colab.research.google.com/assets/colab-badge.svg\" alt=\"Open In Colab\"/></a>"
      ]
    },
    {
      "cell_type": "code",
      "execution_count": 59,
      "metadata": {
        "id": "lvKIMuiya178",
        "colab": {
          "base_uri": "https://localhost:8080/"
        },
        "outputId": "89161c99-85ef-4c0e-8393-ce8304fc9351"
      },
      "outputs": [
        {
          "output_type": "stream",
          "name": "stdout",
          "text": [
            "Bibliotecas instaladas.\n"
          ]
        }
      ],
      "source": [
        "# Instalar bibliotecas necessárias.\n",
        "!pip install -q google-genai\n",
        "!pip install -q google-genai ipywidgets\n",
        "!pip install -q google-adk\n",
        "print(\"Bibliotecas instaladas.\")"
      ]
    },
    {
      "cell_type": "code",
      "source": [
        "# Importações Nescessárias.\n",
        "import os\n",
        "from google.adk.agents import Agent\n",
        "print(\"Agent: OK\")\n",
        "from google.adk.runners import Runner\n",
        "print(\"Runner: OK\")\n",
        "from google.adk.sessions import InMemorySessionService\n",
        "print(\"In Memory: Ok\")\n",
        "from google.adk.tools import google_search\n",
        "print(\"Google Search: OK\")\n",
        "from datetime import date\n",
        "print(\"Date: OK\")\n",
        "import textwrap # Para formatar melhor a saída de texto\n",
        "from IPython.display import display, Markdown # Para exibir texto formatado no Colab\n",
        "import requests # Para fazer requisições HTTP\n",
        "import warnings\n",
        "\n",
        "warnings.filterwarnings(\"ignore\")\n",
        "from google.colab import userdata\n",
        "os.environ[\"GOOGLE_API_KEY\"] = userdata.get('GOOGLE_API_KEY')\n",
        "print(\"API_KEY: OK\")\n",
        "\n",
        "import ipywidgets as widgets\n",
        "from ipywidgets import HTML, Output, Label, Textarea, Button, VBox, HBox, Layout\n",
        "from IPython.display import display\n",
        "from datetime import datetime\n",
        "print(\"Widgets: OK\")\n",
        "\n",
        "import google.adk as adk\n",
        "print(\"Adk: OK\")\n",
        "\n",
        "from google import genai\n",
        "client = genai.Client()\n",
        "modelo = \"gemini-2.5-flash-preview-04-17\"\n",
        "print(\"Modelo Gemini: OK\")\n",
        "\n",
        "from google.genai import types\n",
        "print(\"Tipos para configurar os modelos: OK\")\n",
        "\n"
      ],
      "metadata": {
        "id": "t68bTj2mbRNQ"
      },
      "execution_count": null,
      "outputs": []
    },
    {
      "cell_type": "code",
      "source": [
        "# Função auxiliar que envia uma mensagem para um agente via Runner e retorna a resposta final\n",
        "def call_agent(agent: Agent, message_text: str) -> str:\n",
        "    # Cria um serviço de sessão em memória\n",
        "    session_service = InMemorySessionService()\n",
        "    # Cria uma nova sessão (você pode personalizar os IDs conforme necessário)\n",
        "    session = session_service.create_session(app_name=agent.name, user_id=\"user1\", session_id=\"session1\")\n",
        "    # Cria um Runner para o agente\n",
        "    runner = Runner(agent=agent, app_name=agent.name, session_service=session_service)\n",
        "    # Cria o conteúdo da mensagem de entrada\n",
        "    content = types.Content(role=\"user\", parts=[types.Part(text=message_text)])\n",
        "\n",
        "    final_response = \"\"\n",
        "    # Itera assincronamente pelos eventos retornados durante a execução do agente\n",
        "    for event in runner.run(user_id=\"user1\", session_id=\"session1\", new_message=content):\n",
        "        if event.is_final_response():\n",
        "          for part in event.content.parts:\n",
        "            if part.text is not None:\n",
        "              final_response += part.text\n",
        "              final_response += \"\\n\"\n",
        "    return final_response"
      ],
      "metadata": {
        "id": "XsUqgBuIFgsU"
      },
      "execution_count": 64,
      "outputs": []
    },
    {
      "cell_type": "code",
      "source": [
        "# agente de busca#\n",
        "def agente_buscador(topico, data_de_hoje):\n",
        "\n",
        "    buscador = Agent(\n",
        "        name=\"agente_buscador\",\n",
        "        model=\"gemini-2.0-flash\",\n",
        "        instruction=\"\"\"\n",
        "        Você é um assistente de pesquisa. A sua tarefa é usar a ferramenta de busca do google (google_search)\n",
        "        para recuperar frase motivadoras, poemas reconfortantes, videos ou musicas com historias inspiradoras.\n",
        "        Esses lançamentos relevantes podem ou não ser atuais, de no máximo dez anos antes da data de hoje.\n",
        "        \"\"\",\n",
        "        description=\"Agente que busca informações no Google\",\n",
        "        tools=[google_search]\n",
        "    )\n",
        "\n",
        "    entrada_do_agente_buscador = f\"Tópico: {topico}\\nData de hoje: {data_de_hoje}\"\n",
        "\n",
        "    lancamentos = call_agent(buscador, entrada_do_agente_buscador)\n",
        "    return lancamentos\n"
      ],
      "metadata": {
        "id": "xiXMXZTzGVdN"
      },
      "execution_count": 66,
      "outputs": []
    },
    {
      "cell_type": "code",
      "source": [
        "# --- Agente motivador --- #\n",
        "################################################\n",
        "def agente_motivador(topico, lancamentos_buscados):\n",
        "    motivador = Agent(\n",
        "        name=\"agente_motivador\",\n",
        "        model=\"gemini-2.5-flash-preview-04-17\",\n",
        "        # Inserir as instruções do Agente motivador #################################################\n",
        "        instruction=\"\"\"\n",
        "        Você é motivaciocal, especialista em inspirar as pessoas. Com base na lista de\n",
        "        frase motivadoras, poemas reconfortantes e historias inspiradoras e relevantes buscador, você deve:\n",
        "        usar a ferramenta de busca do Google (google_search) para selecionar entre eles\n",
        "        quais são os pontos mais relevantes que poderíamos usar para inspiras. Você também pode usar o (google_search) para encontrar mais\n",
        "        informações sobre os temas e filtrar os que são mais alegres.\n",
        "        Ao final, você irá escolher o tema mais relevante entre eles com base nas suas pesquisas\n",
        "        e retornar esse tema, seus pontos mais relevantes, e um plano com os assuntos\n",
        "        a serem apresentados posteriormente.\n",
        "        \"\"\",\n",
        "        description=\"Agente motivacional\",\n",
        "        tools=[google_search]\n",
        "    )\n",
        "\n",
        "    entrada_do_agente_motivador = f\"Tópico:{topico}\\nLançamentos buscados: {lancamentos_buscados}\"\n",
        "    # Executa o agente\n",
        "    plano_motiva = call_agent(motivador, entrada_do_agente_motivador)\n",
        "    return plano_motiva"
      ],
      "metadata": {
        "id": "S8UCUhrMIGju"
      },
      "execution_count": 82,
      "outputs": []
    },
    {
      "cell_type": "code",
      "source": [
        "# --- Agente de correção --- #\n",
        "######################################\n",
        "def agente_redator(topico, plano_de_post):\n",
        "    redator = Agent(\n",
        "        name=\"agente_redator\",\n",
        "        model=\"gemini-2.5-flash-preview-04-17\",\n",
        "        instruction=\"\"\"\n",
        "            Você é um Redator Criativo especializado em criar frases motivacionais, alegres e inspiradoras.\n",
        "            Você escreve posts para as pessoas que querem uma palavra de conforto e motivação.\n",
        "            Utilize o tema fornecido no plano motiva e os pontos mais relevantes fornecidos, e com base nisso,\n",
        "            escreva um rascunho novo ou original para exibir um diferente sempre que a pessoa falar de um de seus sentimentos.\n",
        "            O post deve ser inspirador, informativo, com linguagem simples.\n",
        "            \"\"\",\n",
        "        description=\"Agente redator de posts motivadores\"\n",
        "    )\n",
        "    entrada_do_agente_redator = f\"Tópico: {topico}\\nPlano de post: {plano_motiva}\"\n",
        "    # Executa o agente\n",
        "    rascunho = call_agent(redator, entrada_do_agente_redator)\n",
        "    return rascunho"
      ],
      "metadata": {
        "id": "ea_Smm3eLYVx"
      },
      "execution_count": 83,
      "outputs": []
    },
    {
      "cell_type": "code",
      "source": [
        "# --- Agente de correção --- #\n",
        "##########################################\n",
        "\n",
        "def agente_revisor(topico, rascunho_gerado):\n",
        "    revisor = Agent(\n",
        "        name=\"agente_revisor\",\n",
        "        model=\"gemini-2.5-pro-preview-03-25\",\n",
        "        instruction=\"\"\"\n",
        "            Você é um Editor e Revisor de Conteúdo meticuloso, especializado em posts, frases, poesia, com foco inspirar.\n",
        "            Por ter um público de varias idades, entre 12 e 60 anos, use um tom de escrita adequado.\n",
        "            Revise o rascunho de post gerado abaixo sobre o tópico indicado, verificando clareza, concisão, correção e tom leve e alegre.\n",
        "            Se o rascunho estiver bom, responda apenas 'O rascunho está ótimo e pronto para publicar!'.\n",
        "            Caso haja problemas, aponte-os e sugira melhorias.\n",
        "            \"\"\",\n",
        "        description=\"Agente revisor de post para redes sociais.\"\n",
        "    )\n",
        "    entrada_do_agente_revisor = f\"Tópico: {topico}\\nRascunho: {rascunho_gerado}\"\n",
        "    # Executa o agente\n",
        "    texto_revisado = call_agent(revisor, entrada_do_agente_revisor)\n",
        "    return texto_revisado"
      ],
      "metadata": {
        "id": "IrI1oQ5IOGSN"
      },
      "execution_count": 84,
      "outputs": []
    },
    {
      "cell_type": "code",
      "source": [
        "# Instruções de sistema\n",
        "\n",
        "chat_config = types.GenerateContentConfig (system_instruction = \"\"\"\n",
        "Você é um agente de suporte positivo e encorajador, projetado para oferecer palavras de conforto, dicas gerais de bem-estar e positividade para pessoas que podem estar passando por momentos difíceis.\n",
        "É FUNDAMENTAL que você NUNCA aja como um profissional de saúde mental.\n",
        "Suas respostas devem ser:\n",
        "- Empáticas e acolhedoras.\n",
        "- Focadas em positividade e encorajamento.\n",
        "- Oferecer dicas GERAIS de bem-estar (ex: sobre sono, alimentação, exercícios leves, hobbies, relaxamento, familiar, lazer, amizade, hidratação, tempo ao ar livre).\n",
        "- NUNCA fazer diagnósticos ou sugerir tratamentos ou medicamentos.\n",
        "- SEMPRE incluir um DISCLAIRER CLARO no início ou final de CADA interação de que você não é um profissional e RECOMENDAR FORTEMENTE a busca por AJUDA PROFISSIONAL (psicólogo, psiquiatra).\n",
        "- NUNCA responder a pedidos de ajuda imediata em crises ou pensamentos suicidas. Nesses casos, instrua a pessoa a procurar ajuda profissional imediatamente, ligar para serviços de emergência ou para um centro de valorização da vida (como o CVV no Brasil, ligando para 188).\n",
        "\n",
        "Exemplos de coisas para dizer:\n",
        "- \"É corajoso compartilhar como você se sente.\"\n",
        "- \"Lembre-se de ser gentil consigo mesmo.\"\n",
        "- \"Pequenos passos fazem diferença.\"\n",
        "- \"Que tal tentar uma caminhada curta hoje, se possível?\"\n",
        "- \"Respirar fundo por alguns minutos pode ajudar a relaxar.\"\n",
        "- \"Lembre-se que você não está sozinho(a).\"\n",
        "- \"Tem pessoas que se importam com você\"\n",
        "- \"A vida é um presente único\"\n",
        "- \"Beber água e se alimentar bem ajuda no bem-estar geral.\"\n",
        "\n",
        "Exemplos de coisas para NÃO dizer:\n",
        "- \"Você tem depressão.\" (Diagnóstico)\n",
        "- \"Tome este medicamento.\" (Tratamento)\n",
        "- \"Eu posso curar sua depressão.\" (Afirmação falsa)\n",
        "- \"Não se sinta assim.\" (Invalidando sentimentos)\n",
        "- \"É só uma fase, vai passar.\" (Minimizando)\n",
        "\n",
        "O DISCLAIMER OBRIGATÓRIO ao final e no início da interação deve ser algo como:\n",
        "\"Olá! Sou um agente de IA de apoio positivo e não substituo a ajuda profissional.\n",
        "Se você está enfrentando dificuldades significativas, por favor, procure a ajuda de um\"\n",
        "OU\n",
        "\"Lembre-se, sou uma IA e não posso oferecer aconselhamento médico ou psicológico.\n",
        "Se você precisa de ajuda profissional, por favor, procure um especialista.\"\n",
        "\n",
        "OU ALGO SEMELHANTE, MAS CLARO E RECOMENDANDO AJUDA PROFISSIONAL.\n",
        "\n",
        "Vamos começar. Apresente-se brevemente com o disclaimer inicial.\n",
        "\"\"\"\n",
        ")\n",
        "chat = client.chats.create(model=model, config=chat_config)\n",
        "\n",
        "print(\"Instruções de sistema: OK\")\n"
      ],
      "metadata": {
        "colab": {
          "base_uri": "https://localhost:8080/"
        },
        "id": "RaVZjoyQRD5R",
        "outputId": "90377abd-f1e5-4e81-dd35-e31b752253b5"
      },
      "execution_count": 80,
      "outputs": [
        {
          "output_type": "stream",
          "name": "stdout",
          "text": [
            "Instruções de sistema: OK\n"
          ]
        }
      ]
    },
    {
      "cell_type": "code",
      "source": [
        "data_de_hoje = date.today().strftime(\"%d/%m/%Y\")\n",
        "\n",
        "print(\"🚀 Iniciando o Sistema de Criação de Posts para Instagram com 4 Agentes 🚀\")\n",
        "\n",
        "# --- Obter o Tópico do Usuário ---\n",
        "topico = input(\"❓ Por favor, digite o TÓPICO sobre o qual você quer criar o post de tendências: \")\n",
        "\n",
        "# Inserir lógica do sistema de agentes ################################################\n",
        "if not topico:\n",
        "    print(\"Você esqueceu de digitar o tópico!\")\n",
        "else:\n",
        "    print(f\"Maravilha! Vamos então criar o post sobre novidades em {topico}\")\n",
        "\n",
        "    lancamentos_buscados = agente_buscador(topico, data_de_hoje)\n",
        "\n",
        "    plano_motiva = agente_motivador(topico, lancamentos_buscados)\n",
        "\n",
        "    rascunho_gerado = agente_redator(topico, plano_motiva)\n",
        "    print(\"\\n--- 📝 Resultado do Agente 3 (Redator) ---\\n\")\n",
        "    display(to_markdown(rascunho_gerado))\n",
        "    print(\"--------------------------------------------------------------\")\n",
        "\n",
        "    post_final = agente_revisor(topico, rascunho_gerado)\n",
        "    print(\"\\n--- 📝 Resultado do Agente 4 (Revisor) ---\\n\")\n",
        "    display(to_markdown(post_final))\n",
        "    print(\"--------------------------------------------------------------\")"
      ],
      "metadata": {
        "colab": {
          "base_uri": "https://localhost:8080/",
          "height": 315
        },
        "id": "Ro53QLvdSXI5",
        "outputId": "4ab5fbc5-0405-4982-b87a-796a235449ff"
      },
      "execution_count": 85,
      "outputs": [
        {
          "output_type": "stream",
          "name": "stdout",
          "text": [
            "🚀 Iniciando o Sistema de Criação de Posts para Instagram com 4 Agentes 🚀\n",
            "❓ Por favor, digite o TÓPICO sobre o qual você quer criar o post de tendências: triste\n",
            "Maravilha! Vamos então criar o post sobre novidades em triste\n",
            "\n",
            "--- 📝 Resultado do Agente 3 (Redator) ---\n",
            "\n"
          ]
        },
        {
          "output_type": "error",
          "ename": "NameError",
          "evalue": "name 'to_markdown' is not defined",
          "traceback": [
            "\u001b[0;31m---------------------------------------------------------------------------\u001b[0m",
            "\u001b[0;31mNameError\u001b[0m                                 Traceback (most recent call last)",
            "\u001b[0;32m<ipython-input-85-0836ea6c12f2>\u001b[0m in \u001b[0;36m<cell line: 0>\u001b[0;34m()\u001b[0m\n\u001b[1;32m     18\u001b[0m     \u001b[0mrascunho_gerado\u001b[0m \u001b[0;34m=\u001b[0m \u001b[0magente_redator\u001b[0m\u001b[0;34m(\u001b[0m\u001b[0mtopico\u001b[0m\u001b[0;34m,\u001b[0m \u001b[0mplano_motiva\u001b[0m\u001b[0;34m)\u001b[0m\u001b[0;34m\u001b[0m\u001b[0;34m\u001b[0m\u001b[0m\n\u001b[1;32m     19\u001b[0m     \u001b[0mprint\u001b[0m\u001b[0;34m(\u001b[0m\u001b[0;34m\"\\n--- 📝 Resultado do Agente 3 (Redator) ---\\n\"\u001b[0m\u001b[0;34m)\u001b[0m\u001b[0;34m\u001b[0m\u001b[0;34m\u001b[0m\u001b[0m\n\u001b[0;32m---> 20\u001b[0;31m     \u001b[0mdisplay\u001b[0m\u001b[0;34m(\u001b[0m\u001b[0mto_markdown\u001b[0m\u001b[0;34m(\u001b[0m\u001b[0mrascunho_gerado\u001b[0m\u001b[0;34m)\u001b[0m\u001b[0;34m)\u001b[0m\u001b[0;34m\u001b[0m\u001b[0;34m\u001b[0m\u001b[0m\n\u001b[0m\u001b[1;32m     21\u001b[0m     \u001b[0mprint\u001b[0m\u001b[0;34m(\u001b[0m\u001b[0;34m\"--------------------------------------------------------------\"\u001b[0m\u001b[0;34m)\u001b[0m\u001b[0;34m\u001b[0m\u001b[0;34m\u001b[0m\u001b[0m\n\u001b[1;32m     22\u001b[0m \u001b[0;34m\u001b[0m\u001b[0m\n",
            "\u001b[0;31mNameError\u001b[0m: name 'to_markdown' is not defined"
          ]
        }
      ]
    },
    {
      "source": [
        "## Interface Interativa com Widgets\n",
        "\n",
        "# Variável para controlar se a conversa está ativa\n",
        "chat_active = True\n",
        "\n",
        "# Widget de saída para exibir a conversa - Customized Layout and Style\n",
        "output_area = Output(\n",
        "    layout={\n",
        "        'border': '4px solid black',\n",
        "        'width': 'auto',  # Allow width to adjust\n",
        "        'height': '300px', # Set a fixed height\n",
        "        'overflow_y': 'auto' # Add scrollbar if content overflows\n",
        "    },\n",
        "    # Using style for background color\n",
        "    style={\n",
        "        'background_color': '#f0f0f0' # Light gray background\n",
        "    }\n",
        ")\n",
        "\n",
        "# Widget de entrada para o usuário digitar - Customized Layout\n",
        "input_area = Textarea(\n",
        "    placeholder='Digite seus sentimentos aqui...',\n",
        "    layout=Layout(width='auto', height='100px') # Changed width to auto\n",
        ")\n",
        "\n",
        "# Botão para enviar a mensagem - Customized Style\n",
        "send_button = Button(\n",
        "    description='Enviar',\n",
        "    style={\n",
        "        'button_color': 'darkgreen', # Change button color to light blue\n",
        "        'text_color': 'black',      # Set text color to black\n",
        "        'font_weight': 'bold'       # Set font weight to bold\n",
        "    }\n",
        ")\n",
        "\n",
        "# Botão para sair da conversa - Customized Style\n",
        "exit_button = Button(\n",
        "    description='Sair da Conversa',\n",
        "    style={\n",
        "        'button_color': 'salmon', # Change button color to salmon\n",
        "        'text_color': 'black',   # Set text color to black\n",
        "        'font_weight': 'bold'    # Set font weight to bold\n",
        "    }\n",
        ")\n",
        "\n",
        "\n",
        "# Caixa para organizar a entrada e o botão de envio horizontalmente\n",
        "input_and_send_box = HBox([input_area, send_button]) # Renamed for clarity\n",
        "\n",
        "# Caixa para organizar os botões de envio e sair na parte inferior\n",
        "button_box = HBox([send_button, exit_button], layout=Layout(justify_content='space-between')) # New HBox for buttons\n",
        "\n",
        "# Função para lidar com o clique no botão Enviar\n",
        "def on_send_button_clicked(b):\n",
        "    global chat_active\n",
        "    if chat_active:\n",
        "        user_input = input_area.value\n",
        "        input_area.value = '' # Limpa a área de entrada após enviar\n",
        "\n",
        "        if user_input.lower() == 'sair':\n",
        "            on_exit_button_clicked(None) # Chama a função de sair se o usuário digitar \"sair\"\n",
        "            return\n",
        "\n",
        "        with output_area:\n",
        "            print(f\"Você: {user_input}\\n\")\n",
        "            response = chat.send_message(user_input)\n",
        "            print(f\"Resposta: {response.text}\\n\")\n",
        "\n",
        "# Função para lidar com o clique no botão Sair\n",
        "def on_exit_button_clicked(b):\n",
        "    global chat_active\n",
        "    chat_active = False\n",
        "    input_area.disabled = True\n",
        "    send_button.disabled = True\n",
        "    exit_button.disabled = True\n",
        "    exit_button.description = \"Saída Solicitada\"\n",
        "    with output_area:\n",
        "        print(\"Conversa encerrada. Obrigado por compartilhar!\")\n",
        "\n",
        "# Conectar as funções aos botões\n",
        "send_button.on_click(on_send_button_clicked)\n",
        "exit_button.on_click(on_exit_button_clicked)\n",
        "\n",
        "# Exibir a interface\n",
        "data_de_hoje = date.today().strftime(\"%d/%m/%Y\")\n",
        "print(\"Bem-vindo! Clique no botão 'Sair da Conversa' a qualquer momento para encerrar.\")\n",
        "# Display the widgets in a VBox to stack them vertically\n",
        "display(output_area, input_area, button_box) # Changed display order and components\n",
        "\n",
        "# Opcional: Enviar uma mensagem inicial para o chatbot obter a apresentação com disclaimer\n",
        "# (Isto pode ser adaptado dependendo de como você quer que a conversa inicie)\n",
        "with output_area:\n",
        "    # Você pode enviar um prompt inicial \"Olá\" ou algo similar aqui\n",
        "    # para fazer o chatbot iniciar a conversa com o disclaimer.\n",
        "    # Por exemplo:\n",
        "    response = chat.send_message(\"Inicie a conversa\")\n",
        "    print(f\"Resposta: {response.text}\\n\")"
      ],
      "cell_type": "code",
      "metadata": {
        "colab": {
          "base_uri": "https://localhost:8080/",
          "height": 478,
          "referenced_widgets": [
            "6da879d9b7e04ad6a551a2bc4050ae75",
            "fc25bb939dce4424a074a27175d7d9a5",
            "57783a3ef29046e4922933515ee01626",
            "627f00c17d9d4f63930c078695b810e8",
            "faecd4f034cc4aecb4ab74420560a1dd",
            "dd7b8f25c3d641bf9fc57396f7fa7a4d",
            "da6bca7dd821443ca8958d4f0dde8d6f",
            "eb4936ff56f94c5ca9d1a751b376d275",
            "9e15d744f2d943a887251e30670424fc",
            "3674e1dc553148a19083b573d7ab3a06",
            "de0dd1e73a474c179559b771dccd029f",
            "516e259ca48a47e69dcb7ea1237622a3",
            "0d6514f6344948389ed56770ef7a4045"
          ]
        },
        "id": "hqcXnDDdumtM",
        "outputId": "b9fa90c0-bc0d-4f4c-897c-d9f53ef0080c"
      },
      "execution_count": 86,
      "outputs": [
        {
          "output_type": "stream",
          "name": "stdout",
          "text": [
            "Bem-vindo! Clique no botão 'Sair da Conversa' a qualquer momento para encerrar.\n"
          ]
        },
        {
          "output_type": "display_data",
          "data": {
            "text/plain": [
              "Output(layout=Layout(border='4px solid black', height='300px', overflow_y='auto', width='auto'))"
            ],
            "application/vnd.jupyter.widget-view+json": {
              "version_major": 2,
              "version_minor": 0,
              "model_id": "6da879d9b7e04ad6a551a2bc4050ae75"
            }
          },
          "metadata": {}
        },
        {
          "output_type": "display_data",
          "data": {
            "text/plain": [
              "Textarea(value='', layout=Layout(height='100px', width='auto'), placeholder='Digite seus sentimentos aqui...')"
            ],
            "application/vnd.jupyter.widget-view+json": {
              "version_major": 2,
              "version_minor": 0,
              "model_id": "57783a3ef29046e4922933515ee01626"
            }
          },
          "metadata": {}
        },
        {
          "output_type": "display_data",
          "data": {
            "text/plain": [
              "HBox(children=(Button(description='Enviar', style=ButtonStyle(button_color='darkgreen', font_weight='bold')), …"
            ],
            "application/vnd.jupyter.widget-view+json": {
              "version_major": 2,
              "version_minor": 0,
              "model_id": "dd7b8f25c3d641bf9fc57396f7fa7a4d"
            }
          },
          "metadata": {}
        }
      ]
    }
  ]
}